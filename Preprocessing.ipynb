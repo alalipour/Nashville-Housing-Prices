{
 "cells": [
  {
   "cell_type": "markdown",
   "id": "b30b4c47",
   "metadata": {},
   "source": [
    "Before importing the data from the previous step and the packages we need, we list some of the things we noted in the previous step which we need to deal with:\n",
    "1. We need to convert some of features into the correct data type.\n",
    "2. We have up to 108 rows with missing data on the number of half baths.\n",
    "3. There are some properties with very high acreage and/or finished area but with low sale prices.\n",
    "4. Some of the sale prices are incredibly low and bedroom/bathroom numbers for some properties are zero.\n",
    "5. There might be duplicate neighborhood IDs for different cities."
   ]
  },
  {
   "cell_type": "code",
   "execution_count": 1,
   "id": "00cff675",
   "metadata": {},
   "outputs": [],
   "source": [
    "import pandas as pd\n",
    "import numpy as np\n",
    "import matplotlib.pyplot as plt\n",
    "import seaborn as sns\n",
    "import missingno as msno"
   ]
  },
  {
   "cell_type": "code",
   "execution_count": 2,
   "id": "303cb600",
   "metadata": {},
   "outputs": [],
   "source": [
    "df = pd.read_csv('Nashville_Housing_Prices_EDAcompleted.csv', index_col=0)"
   ]
  },
  {
   "cell_type": "code",
   "execution_count": 3,
   "id": "37635bf9",
   "metadata": {
    "scrolled": true
   },
   "outputs": [
    {
     "data": {
      "text/html": [
       "<div>\n",
       "<style scoped>\n",
       "    .dataframe tbody tr th:only-of-type {\n",
       "        vertical-align: middle;\n",
       "    }\n",
       "\n",
       "    .dataframe tbody tr th {\n",
       "        vertical-align: top;\n",
       "    }\n",
       "\n",
       "    .dataframe thead th {\n",
       "        text-align: right;\n",
       "    }\n",
       "</style>\n",
       "<table border=\"1\" class=\"dataframe\">\n",
       "  <thead>\n",
       "    <tr style=\"text-align: right;\">\n",
       "      <th></th>\n",
       "      <th>Parcel ID</th>\n",
       "      <th>Land Use</th>\n",
       "      <th>Property Address</th>\n",
       "      <th>Property City</th>\n",
       "      <th>Sale Date</th>\n",
       "      <th>Sale Price</th>\n",
       "      <th>Legal Reference</th>\n",
       "      <th>Sold As Vacant</th>\n",
       "      <th>Multiple Parcels Involved in Sale</th>\n",
       "      <th>State</th>\n",
       "      <th>...</th>\n",
       "      <th>Grade</th>\n",
       "      <th>Bedrooms</th>\n",
       "      <th>Full Bath</th>\n",
       "      <th>Half Bath</th>\n",
       "      <th>Month</th>\n",
       "      <th>Year</th>\n",
       "      <th>US Unemployment Rate</th>\n",
       "      <th>Nashville Unemployment Rate</th>\n",
       "      <th>US Average Hourly Wage</th>\n",
       "      <th>Mortgage Rate</th>\n",
       "    </tr>\n",
       "  </thead>\n",
       "  <tbody>\n",
       "    <tr>\n",
       "      <th>1</th>\n",
       "      <td>091 07 0 171.00</td>\n",
       "      <td>SINGLE FAMILY</td>\n",
       "      <td>4806  KENTUCKY AVE</td>\n",
       "      <td>NASHVILLE</td>\n",
       "      <td>2013-01-02</td>\n",
       "      <td>50000</td>\n",
       "      <td>20130103-0001026</td>\n",
       "      <td>False</td>\n",
       "      <td>False</td>\n",
       "      <td>TN</td>\n",
       "      <td>...</td>\n",
       "      <td>D</td>\n",
       "      <td>3.0</td>\n",
       "      <td>1.0</td>\n",
       "      <td>0.0</td>\n",
       "      <td>Jan</td>\n",
       "      <td>2013</td>\n",
       "      <td>8.0</td>\n",
       "      <td>6.8</td>\n",
       "      <td>19.94</td>\n",
       "      <td>3.34</td>\n",
       "    </tr>\n",
       "    <tr>\n",
       "      <th>3</th>\n",
       "      <td>105 13 0 349.00</td>\n",
       "      <td>SINGLE FAMILY</td>\n",
       "      <td>924  WALDKIRCH AVE</td>\n",
       "      <td>NASHVILLE</td>\n",
       "      <td>2013-01-02</td>\n",
       "      <td>225000</td>\n",
       "      <td>20130107-0001749</td>\n",
       "      <td>False</td>\n",
       "      <td>False</td>\n",
       "      <td>TN</td>\n",
       "      <td>...</td>\n",
       "      <td>C</td>\n",
       "      <td>2.0</td>\n",
       "      <td>1.0</td>\n",
       "      <td>0.0</td>\n",
       "      <td>Jan</td>\n",
       "      <td>2013</td>\n",
       "      <td>8.0</td>\n",
       "      <td>6.8</td>\n",
       "      <td>19.94</td>\n",
       "      <td>3.34</td>\n",
       "    </tr>\n",
       "    <tr>\n",
       "      <th>4</th>\n",
       "      <td>136 14 0 036.00</td>\n",
       "      <td>SINGLE FAMILY</td>\n",
       "      <td>525  CASTLEGATE DR</td>\n",
       "      <td>NASHVILLE</td>\n",
       "      <td>2013-01-02</td>\n",
       "      <td>152000</td>\n",
       "      <td>20130110-0003190</td>\n",
       "      <td>False</td>\n",
       "      <td>False</td>\n",
       "      <td>TN</td>\n",
       "      <td>...</td>\n",
       "      <td>C</td>\n",
       "      <td>4.0</td>\n",
       "      <td>3.0</td>\n",
       "      <td>0.0</td>\n",
       "      <td>Jan</td>\n",
       "      <td>2013</td>\n",
       "      <td>8.0</td>\n",
       "      <td>6.8</td>\n",
       "      <td>19.94</td>\n",
       "      <td>3.34</td>\n",
       "    </tr>\n",
       "    <tr>\n",
       "      <th>6</th>\n",
       "      <td>159 00 0 261.00</td>\n",
       "      <td>SINGLE FAMILY</td>\n",
       "      <td>5442  GRANNY WHITE PIKE</td>\n",
       "      <td>BRENTWOOD</td>\n",
       "      <td>2013-01-02</td>\n",
       "      <td>1365000</td>\n",
       "      <td>20130104-0001158</td>\n",
       "      <td>False</td>\n",
       "      <td>False</td>\n",
       "      <td>TN</td>\n",
       "      <td>...</td>\n",
       "      <td>X</td>\n",
       "      <td>4.0</td>\n",
       "      <td>4.0</td>\n",
       "      <td>1.0</td>\n",
       "      <td>Jan</td>\n",
       "      <td>2013</td>\n",
       "      <td>8.0</td>\n",
       "      <td>6.8</td>\n",
       "      <td>19.94</td>\n",
       "      <td>3.34</td>\n",
       "    </tr>\n",
       "    <tr>\n",
       "      <th>9</th>\n",
       "      <td>075 11 0 189.00</td>\n",
       "      <td>ZERO LOT LINE</td>\n",
       "      <td>813  BRADLEY PL</td>\n",
       "      <td>HERMITAGE</td>\n",
       "      <td>2013-01-03</td>\n",
       "      <td>47025</td>\n",
       "      <td>20130128-0008570</td>\n",
       "      <td>False</td>\n",
       "      <td>False</td>\n",
       "      <td>TN</td>\n",
       "      <td>...</td>\n",
       "      <td>C</td>\n",
       "      <td>3.0</td>\n",
       "      <td>1.0</td>\n",
       "      <td>1.0</td>\n",
       "      <td>Jan</td>\n",
       "      <td>2013</td>\n",
       "      <td>8.0</td>\n",
       "      <td>6.8</td>\n",
       "      <td>19.94</td>\n",
       "      <td>3.34</td>\n",
       "    </tr>\n",
       "  </tbody>\n",
       "</table>\n",
       "<p>5 rows × 27 columns</p>\n",
       "</div>"
      ],
      "text/plain": [
       "         Parcel ID       Land Use         Property Address Property City  \\\n",
       "1  091 07 0 171.00  SINGLE FAMILY       4806  KENTUCKY AVE     NASHVILLE   \n",
       "3  105 13 0 349.00  SINGLE FAMILY       924  WALDKIRCH AVE     NASHVILLE   \n",
       "4  136 14 0 036.00  SINGLE FAMILY       525  CASTLEGATE DR     NASHVILLE   \n",
       "6  159 00 0 261.00  SINGLE FAMILY  5442  GRANNY WHITE PIKE     BRENTWOOD   \n",
       "9  075 11 0 189.00  ZERO LOT LINE          813  BRADLEY PL     HERMITAGE   \n",
       "\n",
       "    Sale Date  Sale Price   Legal Reference  Sold As Vacant  \\\n",
       "1  2013-01-02       50000  20130103-0001026           False   \n",
       "3  2013-01-02      225000  20130107-0001749           False   \n",
       "4  2013-01-02      152000  20130110-0003190           False   \n",
       "6  2013-01-02     1365000  20130104-0001158           False   \n",
       "9  2013-01-03       47025  20130128-0008570           False   \n",
       "\n",
       "   Multiple Parcels Involved in Sale State  ...  Grade Bedrooms  Full Bath  \\\n",
       "1                              False    TN  ...   D         3.0        1.0   \n",
       "3                              False    TN  ...   C         2.0        1.0   \n",
       "4                              False    TN  ...   C         4.0        3.0   \n",
       "6                              False    TN  ...   X         4.0        4.0   \n",
       "9                              False    TN  ...   C         3.0        1.0   \n",
       "\n",
       "   Half Bath Month  Year US Unemployment Rate Nashville Unemployment Rate  \\\n",
       "1        0.0   Jan  2013                  8.0                         6.8   \n",
       "3        0.0   Jan  2013                  8.0                         6.8   \n",
       "4        0.0   Jan  2013                  8.0                         6.8   \n",
       "6        1.0   Jan  2013                  8.0                         6.8   \n",
       "9        1.0   Jan  2013                  8.0                         6.8   \n",
       "\n",
       "   US Average Hourly Wage  Mortgage Rate  \n",
       "1                   19.94           3.34  \n",
       "3                   19.94           3.34  \n",
       "4                   19.94           3.34  \n",
       "6                   19.94           3.34  \n",
       "9                   19.94           3.34  \n",
       "\n",
       "[5 rows x 27 columns]"
      ]
     },
     "execution_count": 3,
     "metadata": {},
     "output_type": "execute_result"
    }
   ],
   "source": [
    "df.head()"
   ]
  },
  {
   "cell_type": "markdown",
   "id": "254709fc",
   "metadata": {},
   "source": [
    "We first deal with any missing data."
   ]
  },
  {
   "cell_type": "code",
   "execution_count": 4,
   "id": "692e9feb",
   "metadata": {},
   "outputs": [
    {
     "data": {
      "text/plain": [
       "Parcel ID                              0\n",
       "Land Use                               0\n",
       "Property Address                       0\n",
       "Property City                          0\n",
       "Sale Date                              0\n",
       "Sale Price                             0\n",
       "Legal Reference                        0\n",
       "Sold As Vacant                         0\n",
       "Multiple Parcels Involved in Sale      0\n",
       "State                                  0\n",
       "Acreage                                0\n",
       "Tax District                           0\n",
       "Neighborhood                           0\n",
       "Finished Area                          0\n",
       "Foundation Type                        0\n",
       "Year Built                             0\n",
       "Exterior Wall                          0\n",
       "Grade                                  0\n",
       "Bedrooms                               0\n",
       "Full Bath                              0\n",
       "Half Bath                            103\n",
       "Month                                  0\n",
       "Year                                   0\n",
       "US Unemployment Rate                   0\n",
       "Nashville Unemployment Rate            0\n",
       "US Average Hourly Wage                 0\n",
       "Mortgage Rate                          0\n",
       "dtype: int64"
      ]
     },
     "execution_count": 4,
     "metadata": {},
     "output_type": "execute_result"
    }
   ],
   "source": [
    "df.isna().sum()"
   ]
  },
  {
   "cell_type": "markdown",
   "id": "8fa9f7a2",
   "metadata": {},
   "source": [
    "We have 103 properties with missing data on the number of half baths. It seems plausible to assume that these values are actually zero, so we impute the missing valuues with zeros."
   ]
  },
  {
   "cell_type": "code",
   "execution_count": 5,
   "id": "27d79d59",
   "metadata": {},
   "outputs": [],
   "source": [
    "df.loc[df['Half Bath'].isna(),'Half Bath'] = 0"
   ]
  },
  {
   "cell_type": "markdown",
   "id": "cfa78742",
   "metadata": {},
   "source": [
    "We then look into the properties with very low sale prices."
   ]
  },
  {
   "cell_type": "code",
   "execution_count": 6,
   "id": "87ad6005",
   "metadata": {},
   "outputs": [
    {
     "data": {
      "text/html": [
       "<div>\n",
       "<style scoped>\n",
       "    .dataframe tbody tr th:only-of-type {\n",
       "        vertical-align: middle;\n",
       "    }\n",
       "\n",
       "    .dataframe tbody tr th {\n",
       "        vertical-align: top;\n",
       "    }\n",
       "\n",
       "    .dataframe thead th {\n",
       "        text-align: right;\n",
       "    }\n",
       "</style>\n",
       "<table border=\"1\" class=\"dataframe\">\n",
       "  <thead>\n",
       "    <tr style=\"text-align: right;\">\n",
       "      <th></th>\n",
       "      <th>Parcel ID</th>\n",
       "      <th>Land Use</th>\n",
       "      <th>Property Address</th>\n",
       "      <th>Property City</th>\n",
       "      <th>Sale Date</th>\n",
       "      <th>Sale Price</th>\n",
       "      <th>Legal Reference</th>\n",
       "      <th>Sold As Vacant</th>\n",
       "      <th>Multiple Parcels Involved in Sale</th>\n",
       "      <th>State</th>\n",
       "      <th>...</th>\n",
       "      <th>Grade</th>\n",
       "      <th>Bedrooms</th>\n",
       "      <th>Full Bath</th>\n",
       "      <th>Half Bath</th>\n",
       "      <th>Month</th>\n",
       "      <th>Year</th>\n",
       "      <th>US Unemployment Rate</th>\n",
       "      <th>Nashville Unemployment Rate</th>\n",
       "      <th>US Average Hourly Wage</th>\n",
       "      <th>Mortgage Rate</th>\n",
       "    </tr>\n",
       "  </thead>\n",
       "  <tbody>\n",
       "    <tr>\n",
       "      <th>9</th>\n",
       "      <td>075 11 0 189.00</td>\n",
       "      <td>ZERO LOT LINE</td>\n",
       "      <td>813  BRADLEY PL</td>\n",
       "      <td>HERMITAGE</td>\n",
       "      <td>2013-01-03</td>\n",
       "      <td>47025</td>\n",
       "      <td>20130128-0008570</td>\n",
       "      <td>False</td>\n",
       "      <td>False</td>\n",
       "      <td>TN</td>\n",
       "      <td>...</td>\n",
       "      <td>C</td>\n",
       "      <td>3.0</td>\n",
       "      <td>1.0</td>\n",
       "      <td>1.0</td>\n",
       "      <td>Jan</td>\n",
       "      <td>2013</td>\n",
       "      <td>8.0</td>\n",
       "      <td>6.8</td>\n",
       "      <td>19.94</td>\n",
       "      <td>3.34</td>\n",
       "    </tr>\n",
       "    <tr>\n",
       "      <th>17</th>\n",
       "      <td>041 11 0 011.00</td>\n",
       "      <td>SINGLE FAMILY</td>\n",
       "      <td>4021  DUMBARTON DR</td>\n",
       "      <td>NASHVILLE</td>\n",
       "      <td>2013-01-04</td>\n",
       "      <td>100</td>\n",
       "      <td>20130129-0009438</td>\n",
       "      <td>False</td>\n",
       "      <td>False</td>\n",
       "      <td>TN</td>\n",
       "      <td>...</td>\n",
       "      <td>C</td>\n",
       "      <td>2.0</td>\n",
       "      <td>1.0</td>\n",
       "      <td>0.0</td>\n",
       "      <td>Jan</td>\n",
       "      <td>2013</td>\n",
       "      <td>8.0</td>\n",
       "      <td>6.8</td>\n",
       "      <td>19.94</td>\n",
       "      <td>3.34</td>\n",
       "    </tr>\n",
       "    <tr>\n",
       "      <th>18</th>\n",
       "      <td>080 08 0 260.00</td>\n",
       "      <td>SINGLE FAMILY</td>\n",
       "      <td>3234  MEXICO DR</td>\n",
       "      <td>NASHVILLE</td>\n",
       "      <td>2013-01-04</td>\n",
       "      <td>20000</td>\n",
       "      <td>20130107-0001791</td>\n",
       "      <td>False</td>\n",
       "      <td>False</td>\n",
       "      <td>TN</td>\n",
       "      <td>...</td>\n",
       "      <td>C</td>\n",
       "      <td>3.0</td>\n",
       "      <td>1.0</td>\n",
       "      <td>0.0</td>\n",
       "      <td>Jan</td>\n",
       "      <td>2013</td>\n",
       "      <td>8.0</td>\n",
       "      <td>6.8</td>\n",
       "      <td>19.94</td>\n",
       "      <td>3.34</td>\n",
       "    </tr>\n",
       "    <tr>\n",
       "      <th>21</th>\n",
       "      <td>061 11 0 235.00</td>\n",
       "      <td>SINGLE FAMILY</td>\n",
       "      <td>1105  GREENLAND AVE</td>\n",
       "      <td>NASHVILLE</td>\n",
       "      <td>2013-01-04</td>\n",
       "      <td>83000</td>\n",
       "      <td>20130110-0003212</td>\n",
       "      <td>False</td>\n",
       "      <td>False</td>\n",
       "      <td>TN</td>\n",
       "      <td>...</td>\n",
       "      <td>C</td>\n",
       "      <td>4.0</td>\n",
       "      <td>3.0</td>\n",
       "      <td>0.0</td>\n",
       "      <td>Jan</td>\n",
       "      <td>2013</td>\n",
       "      <td>8.0</td>\n",
       "      <td>6.8</td>\n",
       "      <td>19.94</td>\n",
       "      <td>3.34</td>\n",
       "    </tr>\n",
       "    <tr>\n",
       "      <th>43</th>\n",
       "      <td>072 10 0 314.00</td>\n",
       "      <td>SINGLE FAMILY</td>\n",
       "      <td>1640  CHASE ST</td>\n",
       "      <td>NASHVILLE</td>\n",
       "      <td>2013-01-07</td>\n",
       "      <td>53000</td>\n",
       "      <td>20130108-0002420</td>\n",
       "      <td>False</td>\n",
       "      <td>False</td>\n",
       "      <td>TN</td>\n",
       "      <td>...</td>\n",
       "      <td>C</td>\n",
       "      <td>3.0</td>\n",
       "      <td>2.0</td>\n",
       "      <td>1.0</td>\n",
       "      <td>Jan</td>\n",
       "      <td>2013</td>\n",
       "      <td>8.0</td>\n",
       "      <td>6.8</td>\n",
       "      <td>19.94</td>\n",
       "      <td>3.40</td>\n",
       "    </tr>\n",
       "  </tbody>\n",
       "</table>\n",
       "<p>5 rows × 27 columns</p>\n",
       "</div>"
      ],
      "text/plain": [
       "          Parcel ID       Land Use     Property Address Property City  \\\n",
       "9   075 11 0 189.00  ZERO LOT LINE      813  BRADLEY PL     HERMITAGE   \n",
       "17  041 11 0 011.00  SINGLE FAMILY   4021  DUMBARTON DR     NASHVILLE   \n",
       "18  080 08 0 260.00  SINGLE FAMILY      3234  MEXICO DR     NASHVILLE   \n",
       "21  061 11 0 235.00  SINGLE FAMILY  1105  GREENLAND AVE     NASHVILLE   \n",
       "43  072 10 0 314.00  SINGLE FAMILY       1640  CHASE ST     NASHVILLE   \n",
       "\n",
       "     Sale Date  Sale Price   Legal Reference  Sold As Vacant  \\\n",
       "9   2013-01-03       47025  20130128-0008570           False   \n",
       "17  2013-01-04         100  20130129-0009438           False   \n",
       "18  2013-01-04       20000  20130107-0001791           False   \n",
       "21  2013-01-04       83000  20130110-0003212           False   \n",
       "43  2013-01-07       53000  20130108-0002420           False   \n",
       "\n",
       "    Multiple Parcels Involved in Sale State  ...  Grade Bedrooms  Full Bath  \\\n",
       "9                               False    TN  ...   C         3.0        1.0   \n",
       "17                              False    TN  ...   C         2.0        1.0   \n",
       "18                              False    TN  ...   C         3.0        1.0   \n",
       "21                              False    TN  ...   C         4.0        3.0   \n",
       "43                              False    TN  ...   C         3.0        2.0   \n",
       "\n",
       "    Half Bath Month  Year US Unemployment Rate Nashville Unemployment Rate  \\\n",
       "9         1.0   Jan  2013                  8.0                         6.8   \n",
       "17        0.0   Jan  2013                  8.0                         6.8   \n",
       "18        0.0   Jan  2013                  8.0                         6.8   \n",
       "21        0.0   Jan  2013                  8.0                         6.8   \n",
       "43        1.0   Jan  2013                  8.0                         6.8   \n",
       "\n",
       "    US Average Hourly Wage  Mortgage Rate  \n",
       "9                    19.94           3.34  \n",
       "17                   19.94           3.34  \n",
       "18                   19.94           3.34  \n",
       "21                   19.94           3.34  \n",
       "43                   19.94           3.40  \n",
       "\n",
       "[5 rows x 27 columns]"
      ]
     },
     "execution_count": 6,
     "metadata": {},
     "output_type": "execute_result"
    }
   ],
   "source": [
    "df[df['Sale Price']/df['Finished Area']<50].head()"
   ]
  },
  {
   "cell_type": "markdown",
   "id": "62ddc398",
   "metadata": {},
   "source": [
    "We see that there are properties with a sale price of less than \\\\$50 per square foot of finished area. This is very low and probably asscoiated with errors. In fact, a comprehensive search on the interent showed that currently houses in Nashville metro area sell on average for a price of \\\\$165-\\\\$303 per square foot. Since the prices from the period of analysis (2013-2016) to present have almost doubled, it is plausible to assume that the median price per square foot for the period of analysis should be around \\\\$100-\\\\$150. We however, take a conservative approach and assume only the prices outside of the range of \\\\$50-\\\\$350 are associated with errors. This approach aslo addresses the problem of properties with very high acreage and/or finished area and low sale prices."
   ]
  },
  {
   "cell_type": "code",
   "execution_count": 7,
   "id": "d23fd8c1",
   "metadata": {},
   "outputs": [
    {
     "name": "stdout",
     "output_type": "stream",
     "text": [
      "(1462, 27)\n"
     ]
    }
   ],
   "source": [
    "print(df[(df['Sale Price']/df['Finished Area']<50) | (df['Sale Price']/df['Finished Area']>350)].shape)\n",
    "df = df.drop(index = df[(df['Sale Price']/df['Finished Area']<50) | \\\n",
    "                        (df['Sale Price']/df['Finished Area']>350)].index)"
   ]
  },
  {
   "cell_type": "markdown",
   "id": "8c6c5fba",
   "metadata": {},
   "source": [
    "We see there were 1462 rows asscoiated with these properties which have been dropped."
   ]
  },
  {
   "cell_type": "markdown",
   "id": "104e7716",
   "metadata": {},
   "source": [
    "For properties with zero bathrooms/bedrooms, we impute the number of bathrooms/bedrooms with rounded average number of bathrooms/bedrooms for properties with similar finished areas."
   ]
  },
  {
   "cell_type": "code",
   "execution_count": 8,
   "id": "4b9acec6",
   "metadata": {},
   "outputs": [],
   "source": [
    "temp1 = pd.DataFrame(round(df.loc[df['Full Bath'] == 0,'Finished Area']/100)*100)\n",
    "temp2 = pd.DataFrame(round(df.loc[df['Bedrooms'] == 0,'Finished Area']/100)*100)"
   ]
  },
  {
   "cell_type": "code",
   "execution_count": 9,
   "id": "fd35fe57",
   "metadata": {},
   "outputs": [],
   "source": [
    "for index in temp1.index:\n",
    "    df.loc[index,'Full Bath'] = round(df.loc[(df['Finished Area']>temp1.loc[index,'Finished Area']-500)&(df['Finished Area']<temp1.loc[index,'Finished Area']+500),'Full Bath'].mean())\n",
    "for index in temp2.index:\n",
    "    df.loc[index,'Bedrooms'] = round(df.loc[(df['Finished Area']>temp2.loc[index,'Finished Area']-500)&(df['Finished Area']<temp2.loc[index,'Finished Area']+500),'Bedrooms'].mean())"
   ]
  },
  {
   "cell_type": "markdown",
   "id": "52facf80",
   "metadata": {},
   "source": [
    "We then convert the features into correct data types. We also combine some of the features into one categorical feature."
   ]
  },
  {
   "cell_type": "code",
   "execution_count": 10,
   "id": "9d4c39eb",
   "metadata": {},
   "outputs": [
    {
     "data": {
      "text/plain": [
       "Parcel ID                             object\n",
       "Land Use                              object\n",
       "Property Address                      object\n",
       "Property City                         object\n",
       "Sale Date                             object\n",
       "Sale Price                             int64\n",
       "Legal Reference                       object\n",
       "Sold As Vacant                          bool\n",
       "Multiple Parcels Involved in Sale       bool\n",
       "State                                 object\n",
       "Acreage                              float64\n",
       "Tax District                          object\n",
       "Neighborhood                         float64\n",
       "Finished Area                        float64\n",
       "Foundation Type                       object\n",
       "Year Built                           float64\n",
       "Exterior Wall                         object\n",
       "Grade                                 object\n",
       "Bedrooms                             float64\n",
       "Full Bath                            float64\n",
       "Half Bath                            float64\n",
       "Month                                 object\n",
       "Year                                   int64\n",
       "US Unemployment Rate                 float64\n",
       "Nashville Unemployment Rate          float64\n",
       "US Average Hourly Wage               float64\n",
       "Mortgage Rate                        float64\n",
       "dtype: object"
      ]
     },
     "execution_count": 10,
     "metadata": {},
     "output_type": "execute_result"
    }
   ],
   "source": [
    "df.dtypes"
   ]
  },
  {
   "cell_type": "code",
   "execution_count": 11,
   "id": "701208f6",
   "metadata": {},
   "outputs": [],
   "source": [
    "df['Bedrooms'] = df['Bedrooms'].astype('int')\n",
    "df['Full Bath'] = df['Full Bath'].astype('int')\n",
    "df['Half Bath'] = df['Half Bath'].astype('int')\n",
    "df['Neighborhood'] = df['Neighborhood'].astype('int')"
   ]
  },
  {
   "cell_type": "code",
   "execution_count": 12,
   "id": "ec899312",
   "metadata": {},
   "outputs": [],
   "source": [
    "df['Location'] = df['Property City'] + ' ' + df['Neighborhood'].astype('str')"
   ]
  },
  {
   "cell_type": "code",
   "execution_count": 13,
   "id": "48420811",
   "metadata": {},
   "outputs": [],
   "source": [
    "df['Sale Month/Year'] = df['Month'] + ' ' + df['Year'].astype('str')"
   ]
  },
  {
   "cell_type": "code",
   "execution_count": 14,
   "id": "3b76f764",
   "metadata": {},
   "outputs": [],
   "source": [
    "df['Age when sold'] = df['Year'] - df['Year Built']"
   ]
  },
  {
   "cell_type": "markdown",
   "id": "c2e4641d",
   "metadata": {},
   "source": [
    "We now perform one-hot encoding for categorical variables, scale our data, and split into train and test datasets."
   ]
  },
  {
   "cell_type": "code",
   "execution_count": 15,
   "id": "49c4b8e7",
   "metadata": {},
   "outputs": [],
   "source": [
    "X = df[['Land Use', 'Sold As Vacant', 'Multiple Parcels Involved in Sale', 'Acreage', 'Tax District',\n",
    "       'Finished Area', 'Foundation Type', 'Exterior Wall', 'Grade', 'Bedrooms', 'Full Bath', 'Half Bath',\n",
    "       'Nashville Unemployment Rate', 'US Average Hourly Wage', 'Mortgage Rate', 'Location',\n",
    "       'Sale Month/Year', 'Age when sold']].reset_index(drop=True)\n",
    "y=df[['Sale Price']].reset_index(drop=True)"
   ]
  },
  {
   "cell_type": "code",
   "execution_count": 16,
   "id": "f8565a4e",
   "metadata": {},
   "outputs": [],
   "source": [
    "from sklearn.preprocessing import StandardScaler\n",
    "scaler = StandardScaler()\n",
    "scaled_columns = pd.DataFrame(scaler.fit_transform(X[['Acreage', 'Finished Area', 'Bedrooms', 'Full Bath', 'Half Bath',\n",
    "       'Nashville Unemployment Rate', 'US Average Hourly Wage', 'Mortgage Rate', 'Age when sold']]), \n",
    "        columns=['Acreage', 'Finished Area', 'Bedrooms', 'Full Bath', 'Half Bath',\n",
    "       'Nashville Unemployment Rate', 'US Average Hourly Wage', 'Mortgage Rate', 'Age when sold'])\n",
    "encoded_columns = pd.get_dummies(X[['Land Use', 'Tax District', 'Foundation Type', 'Exterior Wall', \n",
    "       'Grade', 'Location', 'Sale Month/Year']], drop_first=True)"
   ]
  },
  {
   "cell_type": "code",
   "execution_count": 17,
   "id": "a1d22003",
   "metadata": {},
   "outputs": [],
   "source": [
    "Xtemp = pd.concat([scaled_columns, encoded_columns], axis=1)\n",
    "X = pd.concat([Xtemp, df[['Sold As Vacant', 'Multiple Parcels Involved in Sale']].reset_index(drop=True)], axis=1)"
   ]
  },
  {
   "cell_type": "code",
   "execution_count": 18,
   "id": "8eb69975",
   "metadata": {},
   "outputs": [],
   "source": [
    "from sklearn.model_selection import train_test_split\n",
    "X_train, X_test, y_train, y_test = train_test_split(X, y, test_size=0.25, random_state=42)"
   ]
  },
  {
   "cell_type": "code",
   "execution_count": 19,
   "id": "076454bd",
   "metadata": {},
   "outputs": [
    {
     "data": {
      "text/plain": [
       "(16377, 1)"
      ]
     },
     "execution_count": 19,
     "metadata": {},
     "output_type": "execute_result"
    }
   ],
   "source": [
    "y_train.shape"
   ]
  },
  {
   "cell_type": "markdown",
   "id": "d664c43e",
   "metadata": {},
   "source": [
    "We save the data into a CSV file for modelling in the next step."
   ]
  },
  {
   "cell_type": "code",
   "execution_count": 20,
   "id": "9e4bb739",
   "metadata": {},
   "outputs": [],
   "source": [
    "X_train.to_csv('X_train.csv')\n",
    "X_test.to_csv('X_test.csv')\n",
    "y_train.to_csv('y_train.csv')\n",
    "y_test.to_csv('y_test.csv')"
   ]
  }
 ],
 "metadata": {
  "kernelspec": {
   "display_name": "Python 3 (ipykernel)",
   "language": "python",
   "name": "python3"
  },
  "language_info": {
   "codemirror_mode": {
    "name": "ipython",
    "version": 3
   },
   "file_extension": ".py",
   "mimetype": "text/x-python",
   "name": "python",
   "nbconvert_exporter": "python",
   "pygments_lexer": "ipython3",
   "version": "3.9.6"
  }
 },
 "nbformat": 4,
 "nbformat_minor": 5
}
